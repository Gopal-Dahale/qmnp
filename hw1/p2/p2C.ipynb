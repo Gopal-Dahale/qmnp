{
 "cells": [
  {
   "cell_type": "code",
   "execution_count": 2,
   "id": "8f593d07-7261-4bf8-b125-f2d9e9141a4d",
   "metadata": {},
   "outputs": [],
   "source": [
    "import os\n",
    "import imageio\n",
    "import matplotlib as mpl\n",
    "import matplotlib.pyplot as plt\n",
    "import numpy as np\n",
    "import qutip\n",
    "from matplotlib import cm\n",
    "from matplotlib.ticker import FormatStrFormatter, LinearLocator\n",
    "from tqdm import tqdm\n",
    "from mpl_toolkits.mplot3d import Axes3D\n",
    "import scipy"
   ]
  },
  {
   "cell_type": "markdown",
   "id": "1e1023c7-f7ba-4703-a06e-bd23e2a3ba9b",
   "metadata": {},
   "source": [
    "**Note:** Some parts of code were taken from chatgpt."
   ]
  },
  {
   "cell_type": "code",
   "execution_count": 18,
   "id": "effc4949-90f6-4235-87e0-e529f64047d1",
   "metadata": {},
   "outputs": [],
   "source": [
    "def animate_bloch(states, eig_states, name, duration=0.1, save_all=False):\n",
    "\n",
    "    b = qutip.Bloch()\n",
    "    b.vector_color = [\"r\"]\n",
    "    # b.view = [-40,30]\n",
    "    images = []\n",
    "\n",
    "    try:\n",
    "        length = len(states)\n",
    "    except:\n",
    "        length = 1\n",
    "        states = [states]\n",
    "    ## normalize colors to the length of data ##\n",
    "    # nrm = mpl.colors.Normalize(0,length)\n",
    "    # colors = cm.cool(nrm(range(length))) # options: cool, summer, winter, autumn etc.\n",
    "\n",
    "    ## customize sphere properties ##\n",
    "    # b.point_color = [colors[0]] # options: 'r', 'g', 'b' etc.\n",
    "    b.point_marker = [\"o\"]\n",
    "    b.point_size = [25]\n",
    "\n",
    "    for i in range(length):\n",
    "        b.clear()\n",
    "        b.add_states(eig_states)\n",
    "        b.add_states(states[i])\n",
    "        b.add_states(states[: (i + 1)], \"point\")\n",
    "        if save_all:\n",
    "            b.save(dirc=\"sphere\")  # saving images to tmp directory\n",
    "            filename = \"sphere/bloch_%01d.png\" % i\n",
    "        else:\n",
    "            filename = \"temp_file.png\"\n",
    "            b.save(filename)\n",
    "        images.append(imageio.v2.imread(filename))\n",
    "    imageio.mimsave(f\"{name}.gif\", images, duration=duration)"
   ]
  },
  {
   "cell_type": "markdown",
   "id": "f450c12f-9b54-470d-93b3-b84add34d3d7",
   "metadata": {},
   "source": [
    "### Exercise 12\n",
    "\n",
    "Verify all the other commutation relations involving Pauli matrices by directly multiplying the corresponding matrices. Feel free to do it on a computer."
   ]
  },
  {
   "cell_type": "code",
   "execution_count": 3,
   "id": "f295c0aa-4b42-4c98-a91b-2fdb5b8261cc",
   "metadata": {},
   "outputs": [],
   "source": [
    "x = qutip.sigmax().full()\n",
    "y = qutip.sigmay().full()\n",
    "z = qutip.sigmaz().full()"
   ]
  },
  {
   "cell_type": "code",
   "execution_count": 4,
   "id": "40c9da43-5520-4a38-948e-3af4ec8f0156",
   "metadata": {},
   "outputs": [],
   "source": [
    "def commutation(a, b):\n",
    "    return qutip.Qobj(a @ b - b @ a)"
   ]
  },
  {
   "cell_type": "code",
   "execution_count": 5,
   "id": "a8815a6b-aee4-4819-8e73-552f619ca521",
   "metadata": {},
   "outputs": [
    {
     "data": {
      "text/latex": [
       "Quantum object: dims=[[2], [2]], shape=(2, 2), type='oper', dtype=Dense, isherm=False$$\\left(\\begin{array}{cc}2j & 0\\\\0 & -2j\\end{array}\\right)$$"
      ],
      "text/plain": [
       "Quantum object: dims=[[2], [2]], shape=(2, 2), type='oper', dtype=Dense, isherm=False\n",
       "Qobj data =\n",
       "[[0.+2.j 0.+0.j]\n",
       " [0.+0.j 0.-2.j]]"
      ]
     },
     "execution_count": 5,
     "metadata": {},
     "output_type": "execute_result"
    }
   ],
   "source": [
    "commutation(x, y)"
   ]
  },
  {
   "cell_type": "code",
   "execution_count": 6,
   "id": "17b0525b-c1cb-42fa-9967-cdcaa95b5eac",
   "metadata": {},
   "outputs": [
    {
     "data": {
      "text/latex": [
       "Quantum object: dims=[[2], [2]], shape=(2, 2), type='oper', dtype=Dense, isherm=False$$\\left(\\begin{array}{cc}0 & 2\\\\-2 & 0\\end{array}\\right)$$"
      ],
      "text/plain": [
       "Quantum object: dims=[[2], [2]], shape=(2, 2), type='oper', dtype=Dense, isherm=False\n",
       "Qobj data =\n",
       "[[ 0.  2.]\n",
       " [-2.  0.]]"
      ]
     },
     "execution_count": 6,
     "metadata": {},
     "output_type": "execute_result"
    }
   ],
   "source": [
    "commutation(z, x)"
   ]
  },
  {
   "cell_type": "code",
   "execution_count": 7,
   "id": "0b0df1de-7c84-4ff7-bcb3-356101747081",
   "metadata": {},
   "outputs": [
    {
     "data": {
      "text/latex": [
       "Quantum object: dims=[[2], [2]], shape=(2, 2), type='oper', dtype=Dense, isherm=False$$\\left(\\begin{array}{cc}0 & 2j\\\\2j & 0\\end{array}\\right)$$"
      ],
      "text/plain": [
       "Quantum object: dims=[[2], [2]], shape=(2, 2), type='oper', dtype=Dense, isherm=False\n",
       "Qobj data =\n",
       "[[0.+0.j 0.+2.j]\n",
       " [0.+2.j 0.+0.j]]"
      ]
     },
     "execution_count": 7,
     "metadata": {},
     "output_type": "execute_result"
    }
   ],
   "source": [
    "commutation(y, z)"
   ]
  },
  {
   "cell_type": "code",
   "execution_count": 8,
   "id": "b5f96635-aaa0-48b5-86db-d4228de02be6",
   "metadata": {},
   "outputs": [
    {
     "data": {
      "text/latex": [
       "Quantum object: dims=[[2], [2]], shape=(2, 2), type='oper', dtype=Dense, isherm=True$$\\left(\\begin{array}{cc}0 & 0\\\\0 & 0\\end{array}\\right)$$"
      ],
      "text/plain": [
       "Quantum object: dims=[[2], [2]], shape=(2, 2), type='oper', dtype=Dense, isherm=True\n",
       "Qobj data =\n",
       "[[0. 0.]\n",
       " [0. 0.]]"
      ]
     },
     "execution_count": 8,
     "metadata": {},
     "output_type": "execute_result"
    }
   ],
   "source": [
    "commutation(x, x)"
   ]
  },
  {
   "cell_type": "code",
   "execution_count": 9,
   "id": "dcdab55b-3848-4988-9574-b171ccf14755",
   "metadata": {},
   "outputs": [
    {
     "data": {
      "text/latex": [
       "Quantum object: dims=[[2], [2]], shape=(2, 2), type='oper', dtype=Dense, isherm=True$$\\left(\\begin{array}{cc}0 & 0\\\\0 & 0\\end{array}\\right)$$"
      ],
      "text/plain": [
       "Quantum object: dims=[[2], [2]], shape=(2, 2), type='oper', dtype=Dense, isherm=True\n",
       "Qobj data =\n",
       "[[0. 0.]\n",
       " [0. 0.]]"
      ]
     },
     "execution_count": 9,
     "metadata": {},
     "output_type": "execute_result"
    }
   ],
   "source": [
    "commutation(y, y)"
   ]
  },
  {
   "cell_type": "code",
   "execution_count": 10,
   "id": "4a8e063c-2602-48df-ad5b-48134bff6d54",
   "metadata": {},
   "outputs": [
    {
     "data": {
      "text/latex": [
       "Quantum object: dims=[[2], [2]], shape=(2, 2), type='oper', dtype=Dense, isherm=True$$\\left(\\begin{array}{cc}0 & 0\\\\0 & 0\\end{array}\\right)$$"
      ],
      "text/plain": [
       "Quantum object: dims=[[2], [2]], shape=(2, 2), type='oper', dtype=Dense, isherm=True\n",
       "Qobj data =\n",
       "[[0. 0.]\n",
       " [0. 0.]]"
      ]
     },
     "execution_count": 10,
     "metadata": {},
     "output_type": "execute_result"
    }
   ],
   "source": [
    "commutation(z, z)"
   ]
  },
  {
   "cell_type": "markdown",
   "id": "acbb3543-e00a-4830-b928-6b0491bb1b77",
   "metadata": {},
   "source": [
    "### Exercise 14\n",
    "\n",
    "Continuing from the previous exercise, note that the Eq. 8 for the evolution of $x(t)$ and $y(t)$ is exactly the same as the equation of motion for the harmonic oscillator. Show the time-evolution in the $x$-$y$ plane (equatorial plane of the Bloch sphere).\n",
    "\n"
   ]
  },
  {
   "cell_type": "code",
   "execution_count": 11,
   "id": "7ca7eb5e-11d7-4e6a-a5af-cc22c03a2c1a",
   "metadata": {},
   "outputs": [],
   "source": [
    "# Define constants\n",
    "omega_Z = 1.0  # Frequency for Z-axis rotation\n",
    "tlist = np.linspace(0, 10, 500)  # Time array\n",
    "\n",
    "# Pauli matrices\n",
    "sx = qutip.sigmax()\n",
    "sy = qutip.sigmay()\n",
    "sz = qutip.sigmaz()\n",
    "\n",
    "# Define the initial state in the x-y plane (e.g., |+> state, which lies in x-axis)\n",
    "psi0 = (qutip.basis(2, 0) + qutip.basis(2, 1)).unit()  # This is the |+> state\n",
    "\n",
    "# Define the Hamiltonian for rotation around Z-axis\n",
    "H = -0.5 * omega_Z * sz"
   ]
  },
  {
   "cell_type": "code",
   "execution_count": 12,
   "id": "3e8f118a-a4f8-4811-bd01-dca82ccd1ec0",
   "metadata": {},
   "outputs": [],
   "source": [
    "# Solve the time evolution\n",
    "result = qutip.mesolve(H, psi0, tlist, [], [sx, sy, sz])\n",
    "\n",
    "# Extract expectation values of X, Y, and Z\n",
    "x_expect = result.expect[0]\n",
    "y_expect = result.expect[1]\n",
    "z_expect = result.expect[2]"
   ]
  },
  {
   "cell_type": "code",
   "execution_count": 13,
   "id": "9b624f15-57bf-407a-b5ac-8837582c04c0",
   "metadata": {},
   "outputs": [
    {
     "data": {
      "image/png": "[encoded data removed]",
      "text/plain": [
       "<Figure size 600x600 with 1 Axes>"
      ]
     },
     "metadata": {},
     "output_type": "display_data"
    }
   ],
   "source": [
    "# Plot the evolution of X and Y (x-y plane)\n",
    "plt.figure(figsize=(6, 6))\n",
    "plt.plot(x_expect, y_expect, label='Trajectory in x-y plane')\n",
    "plt.xlabel(r'$\\langle X \\rangle$', fontsize=14)\n",
    "plt.ylabel(r'$\\langle Y \\rangle$', fontsize=14)\n",
    "plt.title(\"Time Evolution in the x-y Plane\", fontsize=16)\n",
    "plt.grid()\n",
    "plt.legend()\n",
    "plt.show()"
   ]
  },
  {
   "cell_type": "markdown",
   "id": "5fee1196-fe66-4be1-9823-5190177953e4",
   "metadata": {},
   "source": [
    "### Exercise 15\n",
    "\n",
    "Set $\\omega_X = \\omega_Y = \\omega_Z = 1$ and solve the equation of motion for $x, y, z$ numerically using any solver you have available. You basically need to exponentiate the matrix $\\hat{M}$. Demonstrate that the solution is a rotation of the initial $(x, y, z)$-vector around the vector oriented along $(1, 1, 1)$."
   ]
  },
  {
   "cell_type": "code",
   "execution_count": 14,
   "id": "bb0f7cc2-0e1b-4726-843d-8df00fc634e5",
   "metadata": {},
   "outputs": [],
   "source": [
    "def bloch_vector_to_statevector(bloch_vector):\n",
    "    # Unpack the Bloch vector\n",
    "    x, y, z = bloch_vector\n",
    "    \n",
    "    # Calculate the norm of the Bloch vector\n",
    "    r = np.sqrt(x**2 + y**2 + z**2)\n",
    "    \n",
    "    # Normalize the vector (if r is zero, return the ground state |0⟩)\n",
    "    if r == 0:\n",
    "        return qutip.basis(2, 0)  # The |0⟩ state\n",
    "    \n",
    "    # Normalize the Bloch vector\n",
    "    x_norm = x / r\n",
    "    y_norm = y / r\n",
    "    z_norm = z / r\n",
    "\n",
    "    # Calculate theta and phi\n",
    "    theta = np.arccos(z_norm)  # Angle from z-axis\n",
    "    phi = np.arctan2(y_norm, x_norm)  # Angle in x-y plane\n",
    "\n",
    "    # Convert to the quantum state |ψ⟩\n",
    "    statevector = (np.cos(theta / 2) * qutip.basis(2, 0) + \n",
    "                   np.exp(1j * phi) * np.sin(theta / 2) * qutip.basis(2, 1))\n",
    "    \n",
    "    return statevector"
   ]
  },
  {
   "cell_type": "code",
   "execution_count": 15,
   "id": "2af80a59-66d3-44f5-b117-8c33eaa40e76",
   "metadata": {},
   "outputs": [],
   "source": [
    "# Define constants\n",
    "omega_X = 1.0\n",
    "omega_Y = 1.0\n",
    "omega_Z = 1.0\n",
    "\n",
    "# Define the matrix M\n",
    "M = np.array([[0, -omega_Z, omega_Y],\n",
    "              [omega_Z, 0, -omega_X],\n",
    "              [-omega_Y, omega_X, 0]])\n",
    "\n",
    "# Define time parameters\n",
    "tlist = np.linspace(0, 10, 50)  # Time array\n",
    "initial_vector = np.array([1, 0, 0])  # Initial state vector (along x-axis)\n",
    "\n",
    "# Prepare to store results\n",
    "trajectory = np.zeros((len(tlist), 3))\n",
    "\n",
    "# Calculate the trajectory using matrix exponentiation\n",
    "for i, t in enumerate(tlist):\n",
    "    # Calculate the matrix exponential\n",
    "    exp_M_t = scipy.linalg.expm(M * t)\n",
    "    # Calculate the new state vector\n",
    "    trajectory[i] = exp_M_t @ initial_vector\n",
    "\n",
    "# Extract x, y, and z components\n",
    "x_values = trajectory[:, 0]\n",
    "y_values = trajectory[:, 1]\n",
    "z_values = trajectory[:, 2]"
   ]
  },
  {
   "cell_type": "code",
   "execution_count": 16,
   "id": "97ef89e1-a4f2-4c77-980e-06b2ef64e909",
   "metadata": {},
   "outputs": [],
   "source": [
    "svs = [bloch_vector_to_statevector([i[0], i[1], i[2]]) for i in trajectory]"
   ]
  },
  {
   "cell_type": "code",
   "execution_count": 19,
   "id": "d914a77b-f143-4536-84bf-b48c264c2fe0",
   "metadata": {},
   "outputs": [],
   "source": [
    "animate_bloch(svs, bloch_vector_to_statevector([1, 1, 1]), \"ex_15\")"
   ]
  },
  {
   "cell_type": "markdown",
   "id": "3e3fd4de-3ba1-4f8f-b5c3-9c8e65bd83a5",
   "metadata": {},
   "source": [
    "The animated bloch sphere is shown below. The solution is a rotation of the initial $(x, y, z)$-vector around the vector oriented along $(1, 1, 1)$.\n",
    "\n",
    "<div align=\"center\">\n",
    "<img width=\"400\" src=\"ex_15.gif\" /><br>\n",
    "</div>\n",
    "\n",
    "We can check that all the vectors have same angle with the vector $(1, 1, 1)$"
   ]
  },
  {
   "cell_type": "code",
   "execution_count": 20,
   "id": "0e4b2ec2-9a95-4216-a30c-f450fafecc2c",
   "metadata": {},
   "outputs": [
    {
     "name": "stdout",
     "output_type": "stream",
     "text": [
      "angle: 0.9553166181245091\n"
     ]
    }
   ],
   "source": [
    "axis_vec = np.array([1., 1, 1])\n",
    "axis_vec /= np.linalg.norm(axis_vec)\n",
    "\n",
    "vec = trajectory[0]\n",
    "angle = np.arccos(np.dot(axis_vec, vec))\n",
    "\n",
    "print('angle:', angle)\n",
    "\n",
    "for vec in trajectory[1:]:\n",
    "    assert np.allclose(np.arccos(np.dot(axis_vec, vec)), angle) == True"
   ]
  }
 ],
 "metadata": {
  "kernelspec": {
   "display_name": "Python (jetix)",
   "language": "python",
   "name": "jetix"
  },
  "language_info": {
   "codemirror_mode": {
    "name": "ipython",
    "version": 3
   },
   "file_extension": ".py",
   "mimetype": "text/x-python",
   "name": "python",
   "nbconvert_exporter": "python",
   "pygments_lexer": "ipython3",
   "version": "3.10.0"
  }
 },
 "nbformat": 4,
 "nbformat_minor": 5
}
