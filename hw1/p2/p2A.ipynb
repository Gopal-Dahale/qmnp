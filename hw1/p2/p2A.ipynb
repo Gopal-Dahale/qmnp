{
 "cells": [
  {
   "cell_type": "code",
   "execution_count": 1,
   "id": "35500d66-6408-4be1-84ba-12524e4cccf3",
   "metadata": {},
   "outputs": [],
   "source": [
    "import os\n",
    "import imageio\n",
    "import matplotlib as mpl\n",
    "import matplotlib.pyplot as plt\n",
    "import numpy as np\n",
    "import qutip\n",
    "from matplotlib import cm\n",
    "from matplotlib.ticker import FormatStrFormatter, LinearLocator\n",
    "from tqdm import tqdm\n",
    "from mpl_toolkits.mplot3d import Axes3D\n",
    "import scipy"
   ]
  },
  {
   "cell_type": "markdown",
   "id": "f95ac520-cc66-4cdd-ad0a-b4a03dcdc0f1",
   "metadata": {},
   "source": [
    "### Exercise 4\n",
    "\n",
    "Set up a Bloch sphere in the basis $\\{|E_0\\rangle, |E_1\\rangle\\}$ and consider $\\alpha_0(t=0) = \\alpha_1(t=0) = \\frac{1}{\\sqrt{2}}$. Show the qubit state at $t=0$ and mark its time-evolution."
   ]
  },
  {
   "cell_type": "code",
   "execution_count": 3,
   "id": "e1353359-c4b8-465c-9a61-e6110eb9045a",
   "metadata": {},
   "outputs": [],
   "source": [
    "def animate_bloch(states, eig_states, name, duration=0.1, save_all=False):\n",
    "\n",
    "    b = qutip.Bloch()\n",
    "    b.vector_color = [\"r\"]\n",
    "    # b.view = [-40,30]\n",
    "    images = []\n",
    "\n",
    "    try:\n",
    "        length = len(states)\n",
    "    except:\n",
    "        length = 1\n",
    "        states = [states]\n",
    "    ## normalize colors to the length of data ##\n",
    "    # nrm = mpl.colors.Normalize(0,length)\n",
    "    # colors = cm.cool(nrm(range(length))) # options: cool, summer, winter, autumn etc.\n",
    "\n",
    "    ## customize sphere properties ##\n",
    "    # b.point_color = [colors[0]] # options: 'r', 'g', 'b' etc.\n",
    "    b.point_marker = [\"o\"]\n",
    "    b.point_size = [25]\n",
    "\n",
    "    for i in range(length):\n",
    "        b.clear()\n",
    "        b.add_states(eig_states)\n",
    "        b.add_states(states[i])\n",
    "        b.add_states(states[: (i + 1)], \"point\")\n",
    "        if save_all:\n",
    "            b.save(dirc=\"sphere\")  # saving images to tmp directory\n",
    "            filename = \"sphere/bloch_%01d.png\" % i\n",
    "        else:\n",
    "            filename = \"temp_file.png\"\n",
    "            b.save(filename)\n",
    "        images.append(imageio.v2.imread(filename))\n",
    "    imageio.mimsave(f\"{name}.gif\", images, duration=duration)"
   ]
  },
  {
   "cell_type": "code",
   "execution_count": 5,
   "id": "777e301e-0a43-463e-9b82-54669f0eb2db",
   "metadata": {},
   "outputs": [],
   "source": [
    "ket_E0 = qutip.basis(2, 0)  # |0>\n",
    "ket_E1 = qutip.basis(2, 1) # |1>\n",
    "E0 = 1\n",
    "E1 = -1\n",
    "bloch_states = []\n",
    "init_state = (ket_E0 + ket_E1)/np.sqrt(2)\n",
    "\n",
    "bloch_states = [init_state]\n",
    "\n",
    "# generate and store states for alpha\n",
    "for t in np.linspace(0.0, 10 * np.pi, 200):\n",
    "    coeff = np.exp(-1j * (E1 - E0) * t / scipy.constants.hbar)\n",
    "    psi = ket_E0 + coeff * ket_E1\n",
    "    psi = psi/ psi.norm()\n",
    "    bloch_states.append(psi)"
   ]
  },
  {
   "cell_type": "code",
   "execution_count": 6,
   "id": "9c34c264-815c-41d6-94e3-cf4c4dda367f",
   "metadata": {},
   "outputs": [],
   "source": [
    "animate_bloch(bloch_states, [ket_E0, ket_E1], \"exercise_4\")\n",
    "\n",
    "# if it takes time, reduce the `stop` or `num` in np.linspace"
   ]
  },
  {
   "cell_type": "markdown",
   "id": "5f19aff1-3d9b-4599-82e8-3e095fa88e70",
   "metadata": {},
   "source": [
    "The animated bloch sphere is shown below. The axis lies in the X-Y plane.\n",
    "\n",
    "<div align=\"center\">\n",
    "<img width=\"400\" src=\"exercise_4.gif\" /><br>\n",
    "</div>"
   ]
  }
 ],
 "metadata": {
  "kernelspec": {
   "display_name": "Python (jetix)",
   "language": "python",
   "name": "jetix"
  },
  "language_info": {
   "codemirror_mode": {
    "name": "ipython",
    "version": 3
   },
   "file_extension": ".py",
   "mimetype": "text/x-python",
   "name": "python",
   "nbconvert_exporter": "python",
   "pygments_lexer": "ipython3",
   "version": "3.10.0"
  }
 },
 "nbformat": 4,
 "nbformat_minor": 5
}
