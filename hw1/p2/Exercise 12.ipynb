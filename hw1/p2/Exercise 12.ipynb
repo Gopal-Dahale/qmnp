{
 "cells": [
  {
   "cell_type": "markdown",
   "id": "f99c8d41-bd18-48b4-bde7-ab262bc574ec",
   "metadata": {},
   "source": [
    "Verify all the other commutation relations involving Pauli matrices by directly multiplying the corresponding matrices. Feel free to do it on a computer."
   ]
  },
  {
   "cell_type": "code",
   "execution_count": 1,
   "id": "988bb48d-996a-4d27-88bb-7591c311d006",
   "metadata": {},
   "outputs": [],
   "source": [
    "import qutip\n",
    "\n",
    "x = qutip.sigmax().full()\n",
    "y = qutip.sigmay().full()\n",
    "z = qutip.sigmaz().full()\n",
    "\n",
    "def commutation(a, b):\n",
    "    return qutip.Qobj(a @ b - b @ a)"
   ]
  },
  {
   "cell_type": "code",
   "execution_count": 4,
   "id": "76ca556a-3f64-4bd5-bb52-f4d72ffe12b8",
   "metadata": {},
   "outputs": [
    {
     "data": {
      "text/latex": [
       "Quantum object: dims=[[2], [2]], shape=(2, 2), type='oper', dtype=Dense, isherm=False$$\\left(\\begin{array}{cc}2j & 0\\\\0 & -2j\\end{array}\\right)$$"
      ],
      "text/plain": [
       "Quantum object: dims=[[2], [2]], shape=(2, 2), type='oper', dtype=Dense, isherm=False\n",
       "Qobj data =\n",
       "[[0.+2.j 0.+0.j]\n",
       " [0.+0.j 0.-2.j]]"
      ]
     },
     "execution_count": 4,
     "metadata": {},
     "output_type": "execute_result"
    }
   ],
   "source": [
    "commutation(x, y)"
   ]
  },
  {
   "cell_type": "code",
   "execution_count": 5,
   "id": "eaec80a6-faf6-4702-9926-c3e70bf365c0",
   "metadata": {},
   "outputs": [
    {
     "data": {
      "text/latex": [
       "Quantum object: dims=[[2], [2]], shape=(2, 2), type='oper', dtype=Dense, isherm=False$$\\left(\\begin{array}{cc}0 & 2\\\\-2 & 0\\end{array}\\right)$$"
      ],
      "text/plain": [
       "Quantum object: dims=[[2], [2]], shape=(2, 2), type='oper', dtype=Dense, isherm=False\n",
       "Qobj data =\n",
       "[[ 0.  2.]\n",
       " [-2.  0.]]"
      ]
     },
     "execution_count": 5,
     "metadata": {},
     "output_type": "execute_result"
    }
   ],
   "source": [
    "commutation(z, x)"
   ]
  },
  {
   "cell_type": "code",
   "execution_count": 6,
   "id": "1ba9d137-d828-441a-9dff-8730c41b67bf",
   "metadata": {},
   "outputs": [
    {
     "data": {
      "text/latex": [
       "Quantum object: dims=[[2], [2]], shape=(2, 2), type='oper', dtype=Dense, isherm=True$$\\left(\\begin{array}{cc}0 & 0\\\\0 & 0\\end{array}\\right)$$"
      ],
      "text/plain": [
       "Quantum object: dims=[[2], [2]], shape=(2, 2), type='oper', dtype=Dense, isherm=True\n",
       "Qobj data =\n",
       "[[0. 0.]\n",
       " [0. 0.]]"
      ]
     },
     "execution_count": 6,
     "metadata": {},
     "output_type": "execute_result"
    }
   ],
   "source": [
    "commutation(x, x)"
   ]
  },
  {
   "cell_type": "code",
   "execution_count": 7,
   "id": "d87a64cc-29ac-469f-ad56-5a7c3bce2bce",
   "metadata": {},
   "outputs": [
    {
     "data": {
      "text/latex": [
       "Quantum object: dims=[[2], [2]], shape=(2, 2), type='oper', dtype=Dense, isherm=True$$\\left(\\begin{array}{cc}0 & 0\\\\0 & 0\\end{array}\\right)$$"
      ],
      "text/plain": [
       "Quantum object: dims=[[2], [2]], shape=(2, 2), type='oper', dtype=Dense, isherm=True\n",
       "Qobj data =\n",
       "[[0. 0.]\n",
       " [0. 0.]]"
      ]
     },
     "execution_count": 7,
     "metadata": {},
     "output_type": "execute_result"
    }
   ],
   "source": [
    "commutation(y, y)"
   ]
  },
  {
   "cell_type": "code",
   "execution_count": 8,
   "id": "a532986a-c5de-44f5-9ae2-06712904b2cf",
   "metadata": {},
   "outputs": [
    {
     "data": {
      "text/latex": [
       "Quantum object: dims=[[2], [2]], shape=(2, 2), type='oper', dtype=Dense, isherm=True$$\\left(\\begin{array}{cc}0 & 0\\\\0 & 0\\end{array}\\right)$$"
      ],
      "text/plain": [
       "Quantum object: dims=[[2], [2]], shape=(2, 2), type='oper', dtype=Dense, isherm=True\n",
       "Qobj data =\n",
       "[[0. 0.]\n",
       " [0. 0.]]"
      ]
     },
     "execution_count": 8,
     "metadata": {},
     "output_type": "execute_result"
    }
   ],
   "source": [
    "commutation(z, z)"
   ]
  }
 ],
 "metadata": {
  "kernelspec": {
   "display_name": "Python (jetix)",
   "language": "python",
   "name": "jetix"
  },
  "language_info": {
   "codemirror_mode": {
    "name": "ipython",
    "version": 3
   },
   "file_extension": ".py",
   "mimetype": "text/x-python",
   "name": "python",
   "nbconvert_exporter": "python",
   "pygments_lexer": "ipython3",
   "version": "3.10.0"
  }
 },
 "nbformat": 4,
 "nbformat_minor": 5
}
