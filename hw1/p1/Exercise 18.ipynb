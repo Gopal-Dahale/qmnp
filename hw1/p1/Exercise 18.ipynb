{
 "cells": [
  {
   "cell_type": "markdown",
   "id": "1e051bdf-edd9-4569-bf89-99c150837cdd",
   "metadata": {},
   "source": [
    "Plot $\\langle \\Psi | X | \\Psi \\rangle$ as a function of the angles $\\theta$ and $\\phi$. Compare it to the previously calculated $\\langle \\Psi | Z | \\Psi \\rangle$. Do both quantities behave as $X$- and $Z$-projection of a classical arrow with a unit length?"
   ]
  },
  {
   "cell_type": "code",
   "execution_count": 1,
   "id": "53dc1a01-dd92-4ff2-8543-f019fad78995",
   "metadata": {},
   "outputs": [],
   "source": [
    "import os\n",
    "\n",
    "import imageio\n",
    "import matplotlib as mpl\n",
    "import matplotlib.pyplot as plt\n",
    "import numpy as np\n",
    "import qutip\n",
    "from matplotlib import cm\n",
    "from matplotlib.ticker import FormatStrFormatter, LinearLocator\n",
    "from tqdm import tqdm"
   ]
  },
  {
   "cell_type": "code",
   "execution_count": 2,
   "id": "b855c683-cb3a-409b-a0ae-7f3f470c36b3",
   "metadata": {},
   "outputs": [],
   "source": [
    "steps = 50\n",
    "\n",
    "\n",
    "def generate_surface(cost_function):\n",
    "    Z = []\n",
    "    Z_assembler = []\n",
    "\n",
    "    X = np.linspace(0, np.pi, steps)\n",
    "    Y = np.linspace(0, 2 * np.pi, steps)\n",
    "    X, Y = np.meshgrid(X, Y)\n",
    "\n",
    "    for x in X[0, :]:\n",
    "        for y in Y[:, 0]:\n",
    "            Z_assembler.append(cost_function(x, y))\n",
    "        Z.append(Z_assembler)\n",
    "        Z_assembler = []\n",
    "\n",
    "    Z = np.asarray(Z)\n",
    "    return Z"
   ]
  },
  {
   "cell_type": "code",
   "execution_count": 3,
   "id": "a6abb776-b641-40ef-b7d2-e35cc4b33846",
   "metadata": {},
   "outputs": [],
   "source": [
    "# precede the number with zeros, creating a thong of a certain length\n",
    "def makeIndexOfLength(index, length):\n",
    "    indexStr = str(index)\n",
    "    return \"0\" * (length - len(indexStr)) + indexStr"
   ]
  },
  {
   "cell_type": "code",
   "execution_count": 4,
   "id": "6a0b75ba-f005-4f66-aac5-481fab357674",
   "metadata": {},
   "outputs": [],
   "source": [
    "def cost(theta, phi):\n",
    "    return np.sin(theta) * np.cos(phi)"
   ]
  },
  {
   "cell_type": "code",
   "execution_count": 5,
   "id": "05a5df84-1579-4840-a1d1-f39576446172",
   "metadata": {},
   "outputs": [],
   "source": [
    "surface = generate_surface(cost)"
   ]
  },
  {
   "cell_type": "code",
   "execution_count": 6,
   "id": "07039852-c730-4c6e-acdf-6c99313c3347",
   "metadata": {},
   "outputs": [
    {
     "name": "stderr",
     "output_type": "stream",
     "text": [
      "100%|█████████████████████████████████████████████████████████████████████████████████████████████████████████████████████████████████████████████████████████████████████| 180/180 [00:43<00:00,  4.09it/s]\n"
     ]
    }
   ],
   "source": [
    "OUTPUT_DIR = \"psi_x_psi\"\n",
    "os.makedirs(OUTPUT_DIR, exist_ok=True)\n",
    "\n",
    "for angle in tqdm(range(0, 180)):\n",
    "    X = np.linspace(0, np.pi, steps)\n",
    "    Y = np.linspace(0, 2 * np.pi, steps)\n",
    "    X, Y = np.meshgrid(X, Y)\n",
    "    fig = plt.figure()\n",
    "    ax = fig.add_subplot(111, projection=\"3d\")\n",
    "    surf = ax.plot_surface(\n",
    "        X,\n",
    "        Y,\n",
    "        surface,\n",
    "        rstride=1,\n",
    "        cstride=1,\n",
    "        cmap=plt.get_cmap(\"rainbow\"),\n",
    "        linewidth=0,\n",
    "        antialiased=False,\n",
    "        alpha=0.6,\n",
    "    )\n",
    "    ax.set_zlim(-1, 1)\n",
    "    ax.set_xlabel(\"θ\")\n",
    "    ax.set_ylabel(\"φ\")\n",
    "    ax.set_zlabel(\"sinθ . cosφ\")\n",
    "    ax.view_init(30 + (90 - angle) / 5, 45 + angle * 2)\n",
    "    ax.zaxis.set_major_locator(LinearLocator(10))\n",
    "    ax.zaxis.set_major_formatter(FormatStrFormatter(\"%.02f\"))\n",
    "    plt.savefig(\"./\" + OUTPUT_DIR + \"/\" + makeIndexOfLength(angle, 3) + \".png\")\n",
    "    plt.close()"
   ]
  },
  {
   "cell_type": "markdown",
   "id": "3614726a-3af5-4df1-9a31-54cebd61dcc4",
   "metadata": {},
   "source": [
    "Once the above cell is executed, a directory named `psi_x_psi` is created. Now in a terminal write the command `convert -delay 10 -loop 0 ./psi_x_psi/*.png psi_x_psi.gif` to generate a gif. The gif can be found [here](https://github.com/Gopal-Dahale/qmnp/tree/main/hw1/p1#part-1).\n",
    "\n",
    "![](132.png)"
   ]
  }
 ],
 "metadata": {
  "kernelspec": {
   "display_name": "Python (jetix)",
   "language": "python",
   "name": "jetix"
  },
  "language_info": {
   "codemirror_mode": {
    "name": "ipython",
    "version": 3
   },
   "file_extension": ".py",
   "mimetype": "text/x-python",
   "name": "python",
   "nbconvert_exporter": "python",
   "pygments_lexer": "ipython3",
   "version": "3.10.0"
  }
 },
 "nbformat": 4,
 "nbformat_minor": 5
}
